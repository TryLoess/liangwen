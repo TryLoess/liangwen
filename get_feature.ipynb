{
 "cells": [
  {
   "cell_type": "code",
   "execution_count": 1,
   "id": "initial_id",
   "metadata": {
    "ExecuteTime": {
     "end_time": "2025-04-22T12:18:37.106255Z",
     "start_time": "2025-04-22T12:18:27.720280Z"
    }
   },
   "outputs": [],
   "source": [
    "from src.utils import * \n",
    "import pandas as pd\n",
    "\n",
    "base_dir = get_dir_name(True)\n",
    "try:\n",
    "    os.mkdir(base_dir + \"/feature_set\")\n",
    "except FileExistsError:\n",
    "    pass\n",
    "sym = 0\n",
    "# together_csv(base_dir + \"/train_set\", base_dir + f\"/feature_set/no_feature_sym{sym}.csv\", sym)\n",
    "no_feature_sym0 = pd.read_csv(base_dir + f\"/feature_set/no_feature_sym{sym}.csv\")"
   ]
  },
  {
   "cell_type": "code",
   "execution_count": 2,
   "id": "9c07efc3d4b19c80",
   "metadata": {
    "ExecuteTime": {
     "end_time": "2025-04-22T12:46:09.077893Z",
     "start_time": "2025-04-22T12:46:07.942228Z"
    }
   },
   "outputs": [],
   "source": [
    "import numpy as np\n",
    "from sklearn.model_selection import train_test_split \n",
    "from src.feature_deal import *\n",
    "import joblib"
   ]
  },
  {
   "cell_type": "code",
   "execution_count": 7,
   "id": "79864f25462137e7",
   "metadata": {
    "ExecuteTime": {
     "end_time": "2025-04-22T12:46:34.697504Z",
     "start_time": "2025-04-22T12:46:33.443935Z"
    }
   },
   "outputs": [],
   "source": [
    "%reload_ext autoreload  \n",
    "%autoreload 2    \n",
    "df = no_feature_sym0.copy()\n",
    "y = df[\"label_5\"]\n",
    "feature_col_names = main_feature(df, True)\n",
    "df = main_feature(df)\n",
    "X = df[feature_col_names]\n",
    "\n",
    "X_train, X_val, y_train, y_val = train_test_split(X, y, test_size=0.2, random_state=42, shuffle=True)\n"
   ]
  },
  {
   "cell_type": "code",
   "execution_count": 9,
   "id": "5d355634e7af8d9a",
   "metadata": {
    "ExecuteTime": {
     "end_time": "2025-04-22T12:49:25.452987Z",
     "start_time": "2025-04-22T12:49:24.081422Z"
    }
   },
   "outputs": [
    {
     "name": "stdout",
     "output_type": "stream",
     "text": [
      "最佳参数： {'learning_rate': 0.1, 'max_depth': 7, 'n_estimators': 300, 'subsample': 0.8}\n",
      "验证集准确率 (Accuracy): 0.6607\n",
      "验证集召回率 (Recall):   0.3843\n"
     ]
    }
   ],
   "source": [
    "from lightgbm import LGBMClassifier\n",
    "from sklearn.model_selection import GridSearchCV\n",
    "from sklearn.metrics import accuracy_score, recall_score\n",
    "import pandas as pd\n",
    "\n",
    "\n",
    "def gridsearch():\n",
    "    param_grid = {\n",
    "        \"learning_rate\": [0.01, 0.05, 0.1,],\n",
    "        \"max_depth\":     [3, 5, 7],\n",
    "        \"subsample\":     [0.8, 1.0],\n",
    "        \"n_estimators\":  [100, 200, 300]\n",
    "    }\n",
    "\n",
    "    grid_search = GridSearchCV(\n",
    "        estimator=LGBMClassifier(random_state=42, objective='binary'),  # 如果是二分类\n",
    "        param_grid=param_grid,\n",
    "        cv=3,\n",
    "        scoring='accuracy',   \n",
    "        n_jobs=10\n",
    "    )\n",
    "\n",
    "\n",
    "    grid_search.fit(X_train, y_train)\n",
    "    best_params = grid_search.best_params_\n",
    "    print(\"最佳参数：\", best_params)\n",
    "    return best_params\n",
    "best_params = gridsearch()\n",
    "def train(best_params):\n",
    "\n",
    "    lgb_model = LGBMClassifier(**best_params, random_state=42, objective='multiclass', n_jobs=4)\n",
    "    lgb_model.fit(X_train, y_train)\n",
    "\n",
    "    y_pred = lgb_model.predict(X_val)\n",
    "\n",
    "    acc = accuracy_score(y_val, y_pred)\n",
    "    rec = recall_score(y_val, y_pred, average='macro')    \n",
    "\n",
    "    print(f\"验证集准确率 (Accuracy): {acc:.4f}\")\n",
    "    print(f\"验证集召回率 (Recall):   {rec:.4f}\")\n",
    "# best_params = {'learning_rate': 0.1, 'max_depth': 5, 'n_estimators': 300, 'subsample': 1}\n",
    "train(best_params)"
   ]
  },
  {
   "cell_type": "code",
   "execution_count": null,
   "id": "1b62a6f0",
   "metadata": {
    "scrolled": true
   },
   "outputs": [],
   "source": []
  },
  {
   "cell_type": "code",
   "execution_count": 5,
   "id": "75613a5bbf36efd1",
   "metadata": {},
   "outputs": [],
   "source": [
    "# joblib.dump(lgb_model, base_dir + f\"/models/lgb_sym{sym}_acc{acc:.3f}.pkl\")"
   ]
  },
  {
   "cell_type": "code",
   "execution_count": 6,
   "id": "33f80e31",
   "metadata": {},
   "outputs": [
    {
     "name": "stdout",
     "output_type": "stream",
     "text": [
      "验证集准确率 (Accuracy): 0.6590\n",
      "验证集召回率 (Recall):   0.3833\n"
     ]
    }
   ],
   "source": [
    "one_pred_model = joblib.load(base_dir + f\"/models/lgb_sym{sym}_acc0.657.pkl\")\n",
    "# y_pred_all = lgb_model.predict(X)\n",
    "# y_pred_one = one_pred_model.predict(X)\n",
    "# X[\"y_pred_all\"] = y_pred_all\n",
    "# X[\"y_pred_one\"] = y_pred_one\n",
    "X_train, X_val, y_train, y_val = train_test_split(X, y, test_size=0.2, random_state=42, shuffle=True)\n",
    "train(best_params)"
   ]
  }
 ],
 "metadata": {
  "kernelspec": {
   "display_name": "Python 3 (ipykernel)",
   "language": "python",
   "name": "python3"
  },
  "language_info": {
   "codemirror_mode": {
    "name": "ipython",
    "version": 3
   },
   "file_extension": ".py",
   "mimetype": "text/x-python",
   "name": "python",
   "nbconvert_exporter": "python",
   "pygments_lexer": "ipython3",
   "version": "3.9.13"
  }
 },
 "nbformat": 4,
 "nbformat_minor": 5
}
